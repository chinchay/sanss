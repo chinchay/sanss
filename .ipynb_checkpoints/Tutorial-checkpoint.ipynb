{
 "cells": [
  {
   "cell_type": "code",
   "execution_count": 1,
   "id": "fatty-oxide",
   "metadata": {},
   "outputs": [
    {
     "data": {
      "text/plain": [
       "PyObject <module 'pymatgen' from '/project/6000101/chinchay/mydocs/venvs/asenv/lib/python3.8/site-packages/pymatgen/__init__.py'>"
      ]
     },
     "execution_count": 1,
     "metadata": {},
     "output_type": "execute_result"
    }
   ],
   "source": [
    "using PyCall\n",
    "t = pyimport(\"pymatgen\")"
   ]
  },
  {
   "cell_type": "code",
   "execution_count": 2,
   "id": "attempted-objective",
   "metadata": {},
   "outputs": [],
   "source": [
    "include(\"./customreadlammps.jl\")\n",
    "using .readLammpsModule"
   ]
  },
  {
   "cell_type": "code",
   "execution_count": 7,
   "id": "criminal-solution",
   "metadata": {},
   "outputs": [
    {
     "name": "stderr",
     "output_type": "stream",
     "text": [
      "WARNING: replacing module readLammpsModule.\n",
      "WARNING: replacing module readLammpsModule.\n"
     ]
    },
    {
     "data": {
      "text/plain": [
       "getTemperatureList! (generic function with 1 method)"
      ]
     },
     "execution_count": 7,
     "metadata": {},
     "output_type": "execute_result"
    }
   ],
   "source": [
    "using Test # for @test\n",
    "include(\"./common.jl\")\n",
    "include(\"./utils.jl\")\n"
   ]
  },
  {
   "cell_type": "code",
   "execution_count": 4,
   "id": "resistant-daniel",
   "metadata": {},
   "outputs": [],
   "source": [
    "L1     = 10    #2\n",
    "L2     = 418   #50\n",
    "Nv     = 576   #72\n",
    "cutOff = 10.0 #10.0\n",
    "# file = \"testVac/data.lammps\" ;# update:LiLaZnO structure definition (208 atom's positions and charges in LAMMPS format)\n",
    "file = \"testVac/data.lammps_222\" ;# update:LiLaZnO structure definition (208 atom's positions and charges in LAMMPS format)"
   ]
  },
  {
   "cell_type": "code",
   "execution_count": 5,
   "id": "nearby-meeting",
   "metadata": {},
   "outputs": [
    {
     "name": "stdout",
     "output_type": "stream",
     "text": [
      "energyBase: 6670.083783916868\n"
     ]
    }
   ],
   "source": [
    "L  = L1 + L2\n",
    "Ne = Nv - L # Number of empty vacancies\n",
    "# Tmax = 350 #200 #1000 #3000 #1000\n",
    "Tmin = 1   #1    #10\n",
    "distSite2Col, neighbors_of, charges, ion1, ion2, removedSites,\n",
    "                    U, UionAionBlist = initialize(L1, L2, Nv, cutOff, file)\n",
    "#\n",
    "L_list  = [ i for i in 1:L ]\n",
    "Ne_list = [ i for i in 1:Ne ]\n",
    "\n",
    "energyBase = getEnergyBase(removedSites, charges, distSite2Col, neighbors_of)\n",
    "println(\"energyBase: \", energyBase)"
   ]
  },
  {
   "cell_type": "code",
   "execution_count": null,
   "id": "funny-poker",
   "metadata": {},
   "outputs": [
    {
     "name": "stdout",
     "output_type": "stream",
     "text": [
      "ii: 1\n",
      "This RURS version stops when temperature reaches 1. It does not wait to complete all moves"
     ]
    }
   ],
   "source": [
    "neighbors_EQ = 1 #10 #50\n",
    "nCheck_EQ = 100\n",
    "nRepeats = 100 #5 # 100\n",
    "listSteps = [1000] #1000 #[100_000] #[200] #[400]#[1600] #50 # 32000 40000\n",
    "tempLength = 100 #100 # 1 #100_000 #100_000 #100 #50 #100 ###stepsTconstant\n",
    "# scheme = \"linear\" # options: \"linear\", \"constant\" # for tempLength\n",
    "# scheme = \"scheme1\"\n",
    "scheme = \"linear\"\n",
    "# scheme = \"constant\" # options: \"linear\", \"constant\" # for tempLength\n",
    "# Tmax = 350 #350 #1400 #700 #350 #200 #1000 #3000 #1000\n",
    "Tmax = 800\n",
    "# Tmax = 2.667\n",
    "Tmin = 1   #1    #10\n",
    "Tmax = float(Tmax)\n",
    "steps = listSteps[1]\n",
    "alpha =  (Tmin / Tmax) ^ (1 / steps)\n",
    "# alpha =  (Tmin / 800.0) ^ (1 / steps)  ## @@@@@@@@ <<<< AVISA QUE DEBISTE HABER USADO ESTE ALPHA @@@@@@@@@@@@@\n",
    "\n",
    "thresholdE = -44190.0\n",
    "\n",
    "walkersBornEqual = false\n",
    "displayMessages = false\n",
    "\n",
    "# contador = 0\n",
    "# global n = 1\n",
    "# while ( contador == 0 ) && ( n <= 50 )\n",
    "#     global n += 1\n",
    "#     # EQ+RURS\n",
    "#     @time contador = experiment17( nRepeats, L1, L, Ne, Nv, ion1, ion2, removedSites, UionAionBlist, nWalkers, Tmax, tempLength, scheme, steps, alpha, neighbors_EQ, nCheck_EQ, displayMessages )\n",
    "# end\n",
    "\n",
    "nWalkers=1 #<<< It won't be used??? Check later!!@@@@@@@@@@@@@@********\n",
    "plot=false\n",
    "for i in 1:1\n",
    "    # only RURS\n",
    "    @time contador, lessEnergies = experiment15( nRepeats, L1, L, Ne, Nv, ion1, ion2, removedSites, UionAionBlist, nWalkers, Tmax, tempLength, scheme, steps, alpha, neighbors_EQ, nCheck_EQ, displayMessages, plot, thresholdE )\n",
    "    println(lessEnergies)\n",
    "    # EQ+RURS\n",
    "    # @time contador = experiment18( nRepeats, L1, L, Ne, Nv, ion1, ion2, removedSites, UionAionBlist, nWalkers, Tmax, tempLength, scheme, steps, alpha, neighbors_EQ, nCheck_EQ, displayMessages )\n",
    "end\n",
    "\n",
    "\n",
    "# print(\"finished.\")\n",
    "# answer = string(contador)\n",
    "# run(`sayProgramFinished $answer`)\n",
    "\n",
    "\n",
    "#\n",
    "\n"
   ]
  },
  {
   "cell_type": "code",
   "execution_count": 21,
   "id": "charged-seating",
   "metadata": {},
   "outputs": [
    {
     "ename": "LoadError",
     "evalue": "\u001b[91mUndefVarError: lessEnergies not defined\u001b[39m",
     "output_type": "error",
     "traceback": [
      "\u001b[91mUndefVarError: lessEnergies not defined\u001b[39m",
      "",
      "Stacktrace:",
      " [1] top-level scope",
      " [2] include_string(::Function, ::Module, ::String, ::String) at ./loading.jl:1091"
     ]
    }
   ],
   "source": [
    "Any[-44174.32229075186, -44174.45097339917, -44164.57429324646, -44164.31032282096, -44163.20213540922]\n",
    "Any[-44151.37549452975, -44136.42922188691, -44164.216622432374, -44156.80795245153, -44175.8140099507]\n",
    "Any[-44170.69367936313, -44156.780992622706, -44141.966594346406, -44161.2895466087, -44173.2032859453]\n"
   ]
  },
  {
   "cell_type": "code",
   "execution_count": 14,
   "id": "monthly-vacuum",
   "metadata": {},
   "outputs": [],
   "source": [
    "# for nRepeats = 100:\n",
    "# 578.245414 seconds (81.47 k allocations: 248.113 MiB, 0.01% gc time)\n",
    "l = [ -44155.32004192533, -44167.32732776156, -44152.264507917585, -44159.00951019643, -44164.800330370774, -44160.422845085996, -44173.6562880531, -44153.15673644504, -44159.50501390843, -44172.450496523285, -44170.659569128526, -44160.46829068883, -44141.79043207112, -44157.9264750077, -44158.49782006387, -44169.99220537996, -44173.40278884653, -44148.846815066834, -44170.14971118699, -44158.478756839366, -44157.20859729834, -44151.44782863215, -44179.79711701243, -44172.58973298934, -44174.13012780079, -44174.07343576782, -44160.44476136047, -44153.147131351405, -44179.985641396604, -44180.293867769535, -44188.29373845068, -44174.82430739367, -44156.3026095665, -44151.070388046384, -44151.281509418965, -44145.62436792001, -44176.98015382105, -44153.05721169905, -44159.74177623015, -44158.23795401687, -44163.046485473686, -44165.75321051764, -44123.11957732283, -44176.089255579005, -44140.777042808346, -44144.23323275956, -44179.345569080106, -44181.373023002445, -44152.9284348138, -44170.138885260094, -44144.583312717754, -44131.12215907158, -44173.71856944175, -44164.27599747838, -44159.72491543188, -44157.37746436245, -44156.305537607375, -44165.80127912939, -44159.27917685573, -44173.33339554437, -44151.95566277464, -44153.99138757146, -44169.13383203136, -44147.58712897799, -44157.022133025355, -44179.79252459835, -44169.72445477841, -44146.54097963949, -44143.250470654726, -44172.631596536776, -44179.423392977056, -44150.59752126048, -44174.602000889485, -44171.34553359611, -44163.613259304264, -44173.618177557546, -44169.32709674832, -44156.160860948665, -44159.92555859198, -44158.51099448596, -44144.35473129383, -44178.19233194973, -44163.56922007676, -44164.10050594237, -44170.74566317989, -44152.065012980485, -44160.14759930963, -44156.34391664616, -44173.289475830265, -44194.97881820782, -44165.54151899572, -44171.499103918955, -44155.035284162106, -44168.479658577075, -44136.899925913574, -44177.94231834082, -44153.51696745191, -44140.17300467786, -44176.62636071764, -44183.27747061311 ];"
   ]
  },
  {
   "cell_type": "code",
   "execution_count": 18,
   "id": "complimentary-surgeon",
   "metadata": {},
   "outputs": [
    {
     "name": "stdout",
     "output_type": "stream",
     "text": [
      "-44194.97881820782\n"
     ]
    }
   ],
   "source": [
    "println(minimum(l))"
   ]
  },
  {
   "cell_type": "code",
   "execution_count": 21,
   "id": "spoken-institute",
   "metadata": {},
   "outputs": [
    {
     "data": {
      "text/plain": [
       "5-element Array{Float64,1}:\n",
       " -44180.293867769535\n",
       " -44188.29373845068\n",
       " -44181.373023002445\n",
       " -44194.97881820782\n",
       " -44183.27747061311"
      ]
     },
     "execution_count": 21,
     "metadata": {},
     "output_type": "execute_result"
    }
   ],
   "source": [
    "[x for x in l if x < -44180]"
   ]
  },
  {
   "cell_type": "code",
   "execution_count": null,
   "id": "integral-kennedy",
   "metadata": {},
   "outputs": [],
   "source": []
  }
 ],
 "metadata": {
  "kernelspec": {
   "display_name": "Julia 1.5.2",
   "language": "julia",
   "name": "julia-1.5"
  },
  "language_info": {
   "file_extension": ".jl",
   "mimetype": "application/julia",
   "name": "julia",
   "version": "1.5.2"
  }
 },
 "nbformat": 4,
 "nbformat_minor": 5
}
